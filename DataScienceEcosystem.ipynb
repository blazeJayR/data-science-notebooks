{
 "cells": [
  {
   "cell_type": "markdown",
   "id": "f13caef9-594e-46ff-bda9-81362a2f9310",
   "metadata": {},
   "source": [
    "# Data Science Tools and Ecosystem"
   ]
  },
  {
   "cell_type": "markdown",
   "id": "e2af94f1-2180-4e6b-9be2-bdcc6189f242",
   "metadata": {},
   "source": [
    "In this notebook, Data Science Tools and Ecosystem are summarized."
   ]
  },
  {
   "cell_type": "markdown",
   "id": "2e4c167a-aafd-4cc5-bb4b-2de056e9674c",
   "metadata": {},
   "source": [
    "**Objectives:**\n",
    "- List popular languages for Data Science  \n",
    "- Identify commonly used libraries in Data Science  \n",
    "- Describe open-source development environments used in Data Science  \n",
    "- Evaluate arithmetic expressions using Python  \n",
    "- Convert values between units using Python code"
   ]
  },
  {
   "cell_type": "markdown",
   "id": "6c803931-96ba-473c-90ca-43ca83aaf913",
   "metadata": {},
   "source": [
    "Some of the popular languages that Data Scientists use are:\n",
    "\n",
    "1. Python\n",
    "2. Java\n",
    "3. C++"
   ]
  },
  {
   "cell_type": "markdown",
   "id": "ec7dcc36-a8b5-47bc-a728-3d9e66e9285e",
   "metadata": {},
   "source": [
    "Some of the commonly used libraries used by Data Scientists include:\n",
    "\n",
    "- Pandas\n",
    "- NumPy\n",
    "- Matplotlib / Seaborn"
   ]
  },
  {
   "cell_type": "markdown",
   "id": "e2cd9dc7-70f0-4628-b23b-b940ef2cd948",
   "metadata": {},
   "source": [
    "| Data Science Tools |\n",
    "|--------------------|\n",
    "| Jupyter Notebook |\n",
    "| VS Code (Visual Studio Code) |\n",
    "| RStudio |\n"
   ]
  },
  {
   "cell_type": "markdown",
   "id": "68ec8101-8546-42f3-946c-adf7722a217a",
   "metadata": {},
   "source": [
    "### Below are a few examples of evaluating arithmetic expressions in Python"
   ]
  },
  {
   "cell_type": "code",
   "execution_count": 4,
   "id": "538f9eb0-15eb-4523-881a-766bf812c610",
   "metadata": {},
   "outputs": [
    {
     "name": "stdout",
     "output_type": "stream",
     "text": [
      "17\n"
     ]
    }
   ],
   "source": [
    "# This a simple arithmetic expression to mutiply then add integers\n",
    "result = 3 * 4 + 5 \n",
    "print(result)"
   ]
  },
  {
   "cell_type": "code",
   "execution_count": 5,
   "id": "06d75a3d-2eaf-456f-8bf7-bdde4e98e199",
   "metadata": {},
   "outputs": [
    {
     "name": "stdout",
     "output_type": "stream",
     "text": [
      "200 minutes is equal to 3.3333333333333335 hours\n"
     ]
    }
   ],
   "source": [
    "# This will convert 200 minutes to hours by diving by 60\n",
    "minutes = 200\n",
    "hours = minutes / 60\n",
    "print(f\"{minutes} minutes is equal to {hours} hours\")"
   ]
  },
  {
   "cell_type": "markdown",
   "id": "90ce665c-a6c1-4da3-a64a-da7f5e970b64",
   "metadata": {},
   "source": [
    "## Author\n",
    "\n",
    "Blazej Rybus"
   ]
  },
  {
   "cell_type": "code",
   "execution_count": null,
   "id": "0e3fce7d-0cda-4957-a3c5-2a80430b8918",
   "metadata": {},
   "outputs": [],
   "source": []
  }
 ],
 "metadata": {
  "kernelspec": {
   "display_name": "Python 3 (ipykernel)",
   "language": "python",
   "name": "python3"
  },
  "language_info": {
   "codemirror_mode": {
    "name": "ipython",
    "version": 3
   },
   "file_extension": ".py",
   "mimetype": "text/x-python",
   "name": "python",
   "nbconvert_exporter": "python",
   "pygments_lexer": "ipython3",
   "version": "3.13.5"
  }
 },
 "nbformat": 4,
 "nbformat_minor": 5
}
